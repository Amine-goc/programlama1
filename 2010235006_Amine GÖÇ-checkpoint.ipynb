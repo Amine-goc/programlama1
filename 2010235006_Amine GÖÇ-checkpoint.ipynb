{
 "cells": [
  {
   "cell_type": "markdown",
   "id": "3332bdb4",
   "metadata": {},
   "source": [
    "# Ankilozan Spondilit Şiddet indeksi hesaplama "
   ]
  },
  {
   "cell_type": "code",
   "execution_count": null,
   "id": "7b473076",
   "metadata": {},
   "outputs": [],
   "source": [
    "metin=\"Ankilozan spondilit şiddet indeksi (ASİ), ankilozan spondilit (AS) adlı bir romatizmal hastalığın şiddetini değerlendirmek için kullanılan bir ölçüdür. ASİ'nin hesaplanması genellikle belirli klinik ve laboratuvar parametrelerin bir kombinasyonunu içerir. Ancak, tam formül ve hesaplama yöntemi belirli bir klinik çalışmaya, ölçeğe veya uzmana göre değişebilir.\""
   ]
  },
  {
   "cell_type": "markdown",
   "id": "aa731cdb",
   "metadata": {},
   "source": [
    "## Geleneksel kod ile hesaplama"
   ]
  },
  {
   "cell_type": "code",
   "execution_count": 24,
   "id": "50e27452",
   "metadata": {},
   "outputs": [
    {
     "name": "stdout",
     "output_type": "stream",
     "text": [
      "Yaşınızı girin: 15\n",
      "Cinsiyet (Erkek=1, Kadın=0): 1\n",
      "Hastalık süresi (yıl): 3\n",
      "Gece ağrısı (0-10): 7\n",
      "Sabah tutukluğu süresi (saat): 1\n",
      "10.5\n"
     ]
    }
   ],
   "source": [
    "yas = float(input(\"Yaşınızı girin: \"))\n",
    "cinsiyet = float(input(\"Cinsiyet (Erkek=1, Kadın=0): \"))\n",
    "hastalik_suresi = float(input(\"Hastalık süresi (yıl): \"))\n",
    "gece_agrisi = float(input(\"Gece ağrısı (0-10): \"))\n",
    "sabah_tutuklugu = float(input(\"Sabah tutukluğu süresi (saat): \"))\n",
    "try:\n",
    "    asi = (yas / 10) + (cinsiyet * 0.5) + (hastalik_suresi / 6) + gece_agrisi + sabah_tutuklugu\n",
    "except ValueError:\n",
    "    print(\"Hesaplama sırasında bir hata oluştu:\")\n",
    "\n",
    "print(asi)\n"
   ]
  },
  {
   "cell_type": "markdown",
   "id": "d46ba00c",
   "metadata": {},
   "source": [
    "## Fonksiyon ile hesaplama"
   ]
  },
  {
   "cell_type": "code",
   "execution_count": 25,
   "id": "014abc8e",
   "metadata": {},
   "outputs": [
    {
     "name": "stdout",
     "output_type": "stream",
     "text": [
      "Yaşınızı girin: 15\n",
      "Cinsiyet (Erkek=1, Kadın=0): 1\n",
      "Hastalık süresi (yıl): 5\n",
      "Gece ağrısı (0-10): 6\n",
      "Sabah tutukluğu süresi (saat): 7\n",
      "Ankilozan Spondilit Şiddet İndeksi: 15.833333333333334\n"
     ]
    }
   ],
   "source": [
    "def hesapla_asi(yas, cinsiyet, hastalik_suresi, gece_agrisi, sabah_tutuklugu):\n",
    "    try:\n",
    "        asi = (yas / 10) + (cinsiyet * 0.5) + (hastalik_suresi / 6) + gece_agrisi + sabah_tutuklugu\n",
    "        return asi\n",
    "    except Exception as e:\n",
    "        print(\"Hesaplama sırasında bir hata oluştu:\")\n",
    "        return None\n",
    "    \n",
    "yas = float(input(\"Yaşınızı girin: \"))\n",
    "cinsiyet = float(input(\"Cinsiyet (Erkek=1, Kadın=0): \"))\n",
    "hastalik_suresi = float(input(\"Hastalık süresi (yıl): \"))\n",
    "gece_agrisi = float(input(\"Gece ağrısı (0-10): \"))\n",
    "sabah_tutuklugu = float(input(\"Sabah tutukluğu süresi (saat): \"))\n",
    "\n",
    "asi_sonucu = hesapla_asi(yas, cinsiyet, hastalik_suresi, gece_agrisi, sabah_tutuklugu)\n",
    "\n",
    "if asi_sonucu is not None:\n",
    "    print(\"Ankilozan Spondilit Şiddet İndeksi:\",asi_sonucu)"
   ]
  },
  {
   "cell_type": "markdown",
   "id": "f0650459",
   "metadata": {},
   "source": [
    "## Tkinter ile hesaplama"
   ]
  },
  {
   "cell_type": "code",
   "execution_count": null,
   "id": "9ce0bea4",
   "metadata": {},
   "outputs": [],
   "source": [
    "import tkinter as tk\n",
    "from tkinter import messagebox\n",
    "\n",
    "class AnkilozanSpondilitHesaplayici(tk.Frame):\n",
    "    def __init__(self, master=None):\n",
    "        super().__init__(master)\n",
    "        self.master = master\n",
    "        master.title(\"Ankilozan Spondilit Şiddet İndeksi Hesaplayıcı\")\n",
    "        \n",
    "        master.geometry(\"400x300\")  \n",
    "\n",
    "        self.araclar()\n",
    "\n",
    "        menu_bar = tk.Menu(master)\n",
    "        master.config(menu=menu_bar)\n",
    "\n",
    "        help_menu = tk.Menu(menu_bar, tearoff=0)\n",
    "        menu_bar.add_cascade(label=\"Menü\", menu=help_menu)\n",
    "        help_menu.add_command(label=\"Hakkında\", command=self.hakkinda_goster)\n",
    "\n",
    "    def araclar(self):\n",
    "        \n",
    "        self.label_yas = self.create_label(\"Yaş:\", 20, 20)\n",
    "        self.entry_yas = self.create_entry(150, 20)\n",
    "\n",
    "        self.label_cinsiyet = self.create_label(\"Cinsiyet (Erkek=1, Kadın=0):\", 20, 50)\n",
    "        self.var_cinsiyet = tk.StringVar()\n",
    "        self.var_cinsiyet.set(1)\n",
    "        self.radio_erkek = tk.Radiobutton(self.master, text=\"Erkek\", variable=self.var_cinsiyet, value=1)\n",
    "        self.radio_kadın = tk.Radiobutton(self.master, text=\"Kadın\", variable=self.var_cinsiyet, value=0)\n",
    "        self.radio_erkek.place(x=150, y=50)\n",
    "        self.radio_kadın.place(x=250, y=50)\n",
    "\n",
    "        self.label_hastalik_suresi = self.create_label(\"Hastalık Süresi (ay):\", 20, 80)\n",
    "        self.entry_hastalik_suresi = self.create_entry(150, 80)\n",
    "\n",
    "        self.label_gece_agrisi = self.create_label(\"Gece Ağrısı (0-10):\", 20, 110)\n",
    "        self.entry_gece_agrisi = self.create_entry(150, 110)\n",
    "\n",
    "        self.label_sabah_tutuklugu = self.create_label(\"Sabah Tutukluğu Süresi (saat):\", 20, 140)\n",
    "        self.entry_sabah_tutuklugu = self.create_entry(150, 140)\n",
    "\n",
    "        self.calculate_button = tk.Button(self.master, text=\"Hesapla\", command=self.calculate_button_clicked)\n",
    "        self.calculate_button.place(x=150, y=170)\n",
    "\n",
    "    def create_label(self, text, x, y):\n",
    "        label = tk.Label(self.master, text=text)\n",
    "        label.place(x=x, y=y)\n",
    "        return label\n",
    "\n",
    "    def create_entry(self, x, y):\n",
    "        entry = tk.Entry(self.master)\n",
    "        entry.place(x=x, y=y)\n",
    "        return entry\n",
    "\n",
    "    def calculate_button_clicked(self):\n",
    "        try:\n",
    "            yas = float(self.entry_yas.get())\n",
    "            cinsiyet = float(self.var_cinsiyet.get())\n",
    "            hastalık_suresi = float(self.entry_hastalık_suresi.get())\n",
    "            gece_agrisi = float(self.entry_gece_agrisi.get())\n",
    "            sabah_tutuklugu = float(self.entry_sabah_tutuklugu.get())\n",
    "\n",
    "            result = self.calculate_index(yas, cinsiyet, hastalık_suresi, gece_agrisi, sabah_tutuklugu)\n",
    "\n",
    "            messagebox.showinfo(\"Sonuç\", f\"Ankilozan Spondilit Şiddet İndeksi: {result:.2f}\")\n",
    "        except ValueError:\n",
    "            messagebox.showerror(\"Hata\", \"Lütfen geçerli sayısal değerler girin.\")\n",
    "\n",
    "    def calculate_index(self, yas, cinsiyet, hastalik_suresi, gece_agrisi, sabah_tutuklugu ):\n",
    "        try:\n",
    "        \n",
    "            index = (yas / 10) + (cinsiyet * 0.5) + (hastalık_suresi / 6) + gece_agrisi + sabah_tutuklugu\n",
    "            return index\n",
    "        except Exception as e:\n",
    "            messagebox.showerror(\"Hata\", f\"Hesaplama sırasında bir hata oluştu: {e}\")\n",
    "\n",
    "    def hakkinda_goster(self):\n",
    "        hakkında_metni = (\n",
    "            \"Ankilozan Spondilit Şiddet İndeksi (ASİ), ankilozan spondilit (AS) adlı bir romatizmal hastalığın şiddetini değerlendirmek için kullanılan bir ölçüdür. \"\n",
    "            \"ASİ'nin hesaplanması genellikle belirli klinik ve laboratuvar parametrelerin bir kombinasyonunu içerir. Ancak, tam formül ve hesaplama yöntemi belirli bir klinik çalışmaya, ölçeğe veya uzmana göre değişebilir.\"\n",
    "        )\n",
    "        messagebox.showinfo(\"Hakkında\", hakkında_metni)\n",
    "\n",
    "\n",
    "root = tk.Tk()\n",
    "app = AnkilozanSpondilitHesaplayici(master=root)\n",
    "app.mainloop()\n"
   ]
  },
  {
   "cell_type": "code",
   "execution_count": null,
   "id": "710ca1a6",
   "metadata": {},
   "outputs": [],
   "source": []
  }
 ],
 "metadata": {
  "kernelspec": {
   "display_name": "Python 3 (ipykernel)",
   "language": "python",
   "name": "python3"
  },
  "language_info": {
   "codemirror_mode": {
    "name": "ipython",
    "version": 3
   },
   "file_extension": ".py",
   "mimetype": "text/x-python",
   "name": "python",
   "nbconvert_exporter": "python",
   "pygments_lexer": "ipython3",
   "version": "3.11.5"
  }
 },
 "nbformat": 4,
 "nbformat_minor": 5
}
